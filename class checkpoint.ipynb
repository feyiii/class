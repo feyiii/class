{
 "cells": [
  {
   "cell_type": "code",
   "execution_count": 3,
   "id": "03d6857f",
   "metadata": {},
   "outputs": [
    {
     "name": "stdout",
     "output_type": "stream",
     "text": [
      "(1, 2, 3)\n"
     ]
    }
   ],
   "source": [
    "# Write a python class named Point3D defined by x, y, and z. Define a method that returns (x, y ,z). \n",
    "# This tells Python to represent this object in the following format: (x, y, z). \n",
    "# Then create a variable named my_point containing a new instance of Point3D with x=1, y=2, and z=3 and print it.\n",
    "\n",
    "class Point3D:\n",
    "    def __init__(self, x, y, z):\n",
    "        self.x = x\n",
    "        self.y = y\n",
    "        self.z = z\n",
    "    def feyi(self):\n",
    "        return self.x, self.y, self.z\n",
    "    \n",
    "my_point =(Point3D(1,2,3))\n",
    "print(my_point.feyi())"
   ]
  },
  {
   "cell_type": "code",
   "execution_count": 46,
   "id": "5eb8242b",
   "metadata": {},
   "outputs": [
    {
     "name": "stdout",
     "output_type": "stream",
     "text": [
      "12\n",
      "14\n"
     ]
    }
   ],
   "source": [
    "# Write a Python class named Rectangle constructed by a length and width. \n",
    "# Define two methods area and perimeter which will compute the area and the perimeter of the rectangle.\n",
    "# Then create a variable named my_rectangle containing a new instance of Rectangle with width=3 and length = 4 and \n",
    "# compute both of area and perimeter ( the area is expected to be 3*4=12 and perimeter 2*(3+4)=14)\n",
    "\n",
    "class Rectangle:\n",
    "    def __init__(self, length, width):\n",
    "        self.length = length\n",
    "        self.width = width\n",
    "    \n",
    "    def compute_area(self):\n",
    "        return (self.length * self.width)\n",
    "    \n",
    "    def compute_perimeter(self):\n",
    "        return 2 * (self.length + self.width)\n",
    "    \n",
    "my_rectangle = (Rectangle(3,4))\n",
    "print(my_rectangle.compute_area())\n",
    "print(my_rectangle.compute_perimeter())"
   ]
  },
  {
   "cell_type": "code",
   "execution_count": 9,
   "id": "f8fae346",
   "metadata": {},
   "outputs": [
    {
     "name": "stdout",
     "output_type": "stream",
     "text": [
      "50.24\n",
      "25.12\n",
      "point (2, 4) are not within the circle\n"
     ]
    }
   ],
   "source": [
    "# Write a Python  class named Circle constructed by its center O and radius r. \n",
    "# Define two methods area and perimeter which will compute the area and the perimeter of the circle,\n",
    "# and isInside() method of the class which allows to test whether a point A(x, y) belongs to the circle C(O, r) or not.\n",
    "\n",
    "class Circle():\n",
    "    \n",
    "    def __init__(self, c, r):\n",
    "        self.center = c\n",
    "        self.radius = r\n",
    "        \n",
    "    def compute_area(self):\n",
    "        return 3.14 * self.radius **2\n",
    "    \n",
    "    def compute_perimeter(self):\n",
    "        return 2 * 3.14 * self.radius\n",
    "    \n",
    "    def feyi(self, x, y):\n",
    "        if x**2 + y**2<= self.radius**2:\n",
    "            return f'point {x,y} are within the circle'\n",
    "        else:\n",
    "            return f'point {x,y} are not within the circle'\n",
    "my_circle = (Circle(3,4))\n",
    "print(my_circle.compute_area())\n",
    "print(my_circle.compute_perimeter())\n",
    "print(my_circle.feyi(2,4))"
   ]
  },
  {
   "cell_type": "code",
   "execution_count": 13,
   "id": "1f093c1e",
   "metadata": {},
   "outputs": [
    {
     "name": "stdout",
     "output_type": "stream",
     "text": [
      "Hello!!! Welcome to the Deposit & Withdrawal Machine\n",
      "Enter amount to be Deposited: 700\n",
      "\n",
      " Amount Deposited: 700.0\n",
      "\n",
      " Enter amount to be Withdrawn: 80\n",
      "\n",
      " You Withdrew: 80.0\n",
      "\n",
      " Net Available Balance= 620.0\n"
     ]
    }
   ],
   "source": [
    "# Suppose we want to model a bank account with support for deposit and withdraw operations. \n",
    "# Let’s create a python class named bank defined by its balance. \n",
    "# Define two methods deposit and withdraw to compute the new amount of each operation.\n",
    "\n",
    "class Bank_Account:\n",
    "    def __init__(self):\n",
    "        self.balance=0\n",
    "        print(\"Hello!!! Welcome to the Deposit & Withdrawal Machine\")\n",
    " \n",
    "    def deposit(self):\n",
    "        amount=float(input(\"Enter amount to be Deposited: \"))\n",
    "        self.balance += amount\n",
    "        print(\"\\n Amount Deposited:\",amount)\n",
    " \n",
    "    def withdraw(self):\n",
    "        amount = float(input(\"\\n Enter amount to be Withdrawn: \"))\n",
    "        if self.balance>=amount:\n",
    "            self.balance-=amount\n",
    "            print(\"\\n You Withdrew:\",amount)\n",
    "        else:\n",
    "            print(\"\\n insufficient balance\")\n",
    "    def display(self):\n",
    "            print(\"\\n Net Available Balance=\",self.balance)\n",
    "# Driver code          \n",
    "\n",
    "s = Bank_Account()\n",
    "\n",
    "s.deposit()\n",
    "s.withdraw()\n",
    "s.display()"
   ]
  },
  {
   "cell_type": "code",
   "execution_count": null,
   "id": "e4d6f29b",
   "metadata": {},
   "outputs": [],
   "source": []
  }
 ],
 "metadata": {
  "kernelspec": {
   "display_name": "Python 3 (ipykernel)",
   "language": "python",
   "name": "python3"
  },
  "language_info": {
   "codemirror_mode": {
    "name": "ipython",
    "version": 3
   },
   "file_extension": ".py",
   "mimetype": "text/x-python",
   "name": "python",
   "nbconvert_exporter": "python",
   "pygments_lexer": "ipython3",
   "version": "3.9.7"
  }
 },
 "nbformat": 4,
 "nbformat_minor": 5
}
